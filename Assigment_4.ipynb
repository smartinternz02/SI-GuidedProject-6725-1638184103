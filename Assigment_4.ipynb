{
 "cells": [
  {
   "cell_type": "markdown",
   "id": "ca5f2604",
   "metadata": {},
   "source": [
    "# Import Libraries"
   ]
  },
  {
   "cell_type": "code",
   "execution_count": 77,
   "id": "8f7e8d87",
   "metadata": {},
   "outputs": [],
   "source": [
    "import numpy as np\n",
    "from tensorflow.keras.preprocessing.image import ImageDataGenerator"
   ]
  },
  {
   "cell_type": "code",
   "execution_count": 78,
   "id": "49e8b8eb",
   "metadata": {},
   "outputs": [],
   "source": [
    "train_datagen=ImageDataGenerator(rescale=1./255,zoom_range=0.2,horizontal_flip=True,vertical_flip=False)"
   ]
  },
  {
   "cell_type": "code",
   "execution_count": 79,
   "id": "76858767",
   "metadata": {},
   "outputs": [],
   "source": [
    "test_datagen=ImageDataGenerator(rescale=1/255)"
   ]
  },
  {
   "cell_type": "code",
   "execution_count": 80,
   "id": "37ec7fc1",
   "metadata": {},
   "outputs": [
    {
     "name": "stdout",
     "output_type": "stream",
     "text": [
      "Found 50 images belonging to 4 classes.\n"
     ]
    }
   ],
   "source": [
    "x_train=train_datagen.flow_from_directory(r\"F:\\ML&DL-Inter\\Dataset\\Training\",target_size=(90,90),\n",
    "                                          class_mode='categorical',batch_size=400)"
   ]
  },
  {
   "cell_type": "code",
   "execution_count": 81,
   "id": "688c46c0",
   "metadata": {},
   "outputs": [
    {
     "name": "stdout",
     "output_type": "stream",
     "text": [
      "Found 35 images belonging to 4 classes.\n"
     ]
    }
   ],
   "source": [
    "x_test=test_datagen.flow_from_directory(r\"F:\\ML&DL-Inter\\Dataset\\Testing\",target_size=(90,90),\n",
    "                                       class_mode='categorical',batch_size=400)"
   ]
  },
  {
   "cell_type": "code",
   "execution_count": 82,
   "id": "36d4c93f",
   "metadata": {},
   "outputs": [
    {
     "data": {
      "text/plain": [
       "{'KL Rahul': 0, 'Rishabh Pant': 1, 'Shreyas Iyer': 2, 'Virat kohli': 3}"
      ]
     },
     "execution_count": 82,
     "metadata": {},
     "output_type": "execute_result"
    }
   ],
   "source": [
    "x_train.class_indices"
   ]
  },
  {
   "cell_type": "code",
   "execution_count": 83,
   "id": "467b78f9",
   "metadata": {},
   "outputs": [],
   "source": [
    "from tensorflow.keras.models import Sequential\n",
    "from tensorflow.keras.layers import Dense,Convolution2D,MaxPooling2D,Flatten\n"
   ]
  },
  {
   "cell_type": "markdown",
   "id": "c155c522",
   "metadata": {},
   "source": [
    "# Sequential, Convolution & Maxpooling"
   ]
  },
  {
   "cell_type": "code",
   "execution_count": 84,
   "id": "514f75b3",
   "metadata": {},
   "outputs": [],
   "source": [
    "model=Sequential()"
   ]
  },
  {
   "cell_type": "code",
   "execution_count": 85,
   "id": "717b46f6",
   "metadata": {},
   "outputs": [],
   "source": [
    "model.add(Convolution2D(32,(3,3),activation='relu',input_shape=(90,90,3)))"
   ]
  },
  {
   "cell_type": "code",
   "execution_count": 86,
   "id": "2c0287f6",
   "metadata": {},
   "outputs": [],
   "source": [
    "model.add(MaxPooling2D(pool_size=(2,2)))"
   ]
  },
  {
   "cell_type": "code",
   "execution_count": 87,
   "id": "b9f52fd9",
   "metadata": {},
   "outputs": [],
   "source": [
    "model.add(Flatten())"
   ]
  },
  {
   "cell_type": "markdown",
   "id": "adec9418",
   "metadata": {},
   "source": [
    "# Summary"
   ]
  },
  {
   "cell_type": "code",
   "execution_count": 88,
   "id": "371e5385",
   "metadata": {},
   "outputs": [
    {
     "name": "stdout",
     "output_type": "stream",
     "text": [
      "Model: \"sequential_3\"\n",
      "_________________________________________________________________\n",
      "Layer (type)                 Output Shape              Param #   \n",
      "=================================================================\n",
      "conv2d_3 (Conv2D)            (None, 88, 88, 32)        896       \n",
      "_________________________________________________________________\n",
      "max_pooling2d_3 (MaxPooling2 (None, 44, 44, 32)        0         \n",
      "_________________________________________________________________\n",
      "flatten_3 (Flatten)          (None, 61952)             0         \n",
      "=================================================================\n",
      "Total params: 896\n",
      "Trainable params: 896\n",
      "Non-trainable params: 0\n",
      "_________________________________________________________________\n"
     ]
    }
   ],
   "source": [
    "model.summary()"
   ]
  },
  {
   "cell_type": "markdown",
   "id": "07e853be",
   "metadata": {},
   "source": [
    "# Hidden Layer"
   ]
  },
  {
   "cell_type": "code",
   "execution_count": 89,
   "id": "726c5d98",
   "metadata": {},
   "outputs": [],
   "source": [
    "model.add(Dense(300,activation='relu'))\n",
    "model.add(Dense(150,activation='relu'))"
   ]
  },
  {
   "cell_type": "markdown",
   "id": "c2445fa1",
   "metadata": {},
   "source": [
    "# Output Layer"
   ]
  },
  {
   "cell_type": "code",
   "execution_count": 90,
   "id": "efc96cf4",
   "metadata": {},
   "outputs": [],
   "source": [
    "model.add(Dense(4,activation='softmax'))"
   ]
  },
  {
   "cell_type": "code",
   "execution_count": 91,
   "id": "11fa22d5",
   "metadata": {},
   "outputs": [],
   "source": [
    "model.compile(loss='categorical_crossentropy',optimizer='adam',metrics=['accuracy'])"
   ]
  },
  {
   "cell_type": "code",
   "execution_count": 92,
   "id": "dcb799f6",
   "metadata": {},
   "outputs": [
    {
     "name": "stdout",
     "output_type": "stream",
     "text": [
      "Epoch 1/15\n",
      "1/1 [==============================] - 2s 2s/step - loss: 1.3620 - accuracy: 0.3200 - val_loss: 6.4733 - val_accuracy: 0.2857\n",
      "Epoch 2/15\n",
      "1/1 [==============================] - 1s 735ms/step - loss: 4.6883 - accuracy: 0.4200 - val_loss: 5.9098 - val_accuracy: 0.0857\n",
      "Epoch 3/15\n",
      "1/1 [==============================] - 1s 735ms/step - loss: 5.3501 - accuracy: 0.3000 - val_loss: 6.5002 - val_accuracy: 0.2000\n",
      "Epoch 4/15\n",
      "1/1 [==============================] - 1s 727ms/step - loss: 5.4456 - accuracy: 0.3200 - val_loss: 3.7382 - val_accuracy: 0.3143\n",
      "Epoch 5/15\n",
      "1/1 [==============================] - 1s 713ms/step - loss: 3.7841 - accuracy: 0.1800 - val_loss: 5.3247 - val_accuracy: 0.2857\n",
      "Epoch 6/15\n",
      "1/1 [==============================] - 1s 747ms/step - loss: 4.3920 - accuracy: 0.3000 - val_loss: 4.6479 - val_accuracy: 0.2000\n",
      "Epoch 7/15\n",
      "1/1 [==============================] - 1s 732ms/step - loss: 3.1749 - accuracy: 0.4400 - val_loss: 4.9687 - val_accuracy: 0.2000\n",
      "Epoch 8/15\n",
      "1/1 [==============================] - 1s 737ms/step - loss: 3.2029 - accuracy: 0.3200 - val_loss: 4.9884 - val_accuracy: 0.2000\n",
      "Epoch 9/15\n",
      "1/1 [==============================] - 1s 716ms/step - loss: 3.4023 - accuracy: 0.2000 - val_loss: 3.8400 - val_accuracy: 0.2000\n",
      "Epoch 10/15\n",
      "1/1 [==============================] - 1s 735ms/step - loss: 2.6261 - accuracy: 0.2000 - val_loss: 2.9190 - val_accuracy: 0.2857\n",
      "Epoch 11/15\n",
      "1/1 [==============================] - 1s 731ms/step - loss: 2.1018 - accuracy: 0.3000 - val_loss: 2.3346 - val_accuracy: 0.2857\n",
      "Epoch 12/15\n",
      "1/1 [==============================] - 1s 688ms/step - loss: 1.7117 - accuracy: 0.3600 - val_loss: 1.8560 - val_accuracy: 0.2286\n",
      "Epoch 13/15\n",
      "1/1 [==============================] - 1s 722ms/step - loss: 1.3043 - accuracy: 0.5200 - val_loss: 1.8454 - val_accuracy: 0.2000\n",
      "Epoch 14/15\n",
      "1/1 [==============================] - 1s 747ms/step - loss: 1.3926 - accuracy: 0.3600 - val_loss: 1.9193 - val_accuracy: 0.2571\n",
      "Epoch 15/15\n",
      "1/1 [==============================] - 1s 742ms/step - loss: 1.5862 - accuracy: 0.3200 - val_loss: 1.9623 - val_accuracy: 0.2571\n"
     ]
    },
    {
     "data": {
      "text/plain": [
       "<tensorflow.python.keras.callbacks.History at 0x144000bb820>"
      ]
     },
     "execution_count": 92,
     "metadata": {},
     "output_type": "execute_result"
    }
   ],
   "source": [
    "model.fit_generator(x_train,steps_per_epoch=len(x_train),epochs=15,validation_data=x_test,validation_steps=len(x_test))"
   ]
  },
  {
   "cell_type": "markdown",
   "id": "4c20b095",
   "metadata": {},
   "source": [
    "# Save the Model"
   ]
  },
  {
   "cell_type": "code",
   "execution_count": 93,
   "id": "a944169a",
   "metadata": {},
   "outputs": [],
   "source": [
    "model.save('famous_persons.h5')"
   ]
  },
  {
   "cell_type": "markdown",
   "id": "a70f1520",
   "metadata": {},
   "source": [
    "# Testing the Model"
   ]
  },
  {
   "cell_type": "code",
   "execution_count": 94,
   "id": "9ed38c8d",
   "metadata": {},
   "outputs": [],
   "source": [
    "from tensorflow.keras.models import load_model\n",
    "from tensorflow.keras.preprocessing import image"
   ]
  },
  {
   "cell_type": "code",
   "execution_count": 95,
   "id": "d114b8d0",
   "metadata": {},
   "outputs": [
    {
     "name": "stdout",
     "output_type": "stream",
     "text": [
      "WARNING:tensorflow:6 out of the last 6 calls to <function Model.make_predict_function.<locals>.predict_function at 0x0000014403B2DCA0> triggered tf.function retracing. Tracing is expensive and the excessive number of tracings could be due to (1) creating @tf.function repeatedly in a loop, (2) passing tensors with different shapes, (3) passing Python objects instead of tensors. For (1), please define your @tf.function outside of the loop. For (2), @tf.function has experimental_relax_shapes=True option that relaxes argument shapes that can avoid unnecessary retracing. For (3), please refer to https://www.tensorflow.org/guide/function#controlling_retracing and https://www.tensorflow.org/api_docs/python/tf/function for  more details.\n"
     ]
    },
    {
     "data": {
      "text/plain": [
       "array([0], dtype=int64)"
      ]
     },
     "execution_count": 95,
     "metadata": {},
     "output_type": "execute_result"
    }
   ],
   "source": [
    "model=load_model('famous_persons.h5')\n",
    "img=image.load_img(r\"F:\\ML&DL-Inter\\Dataset\\Testing\\Nani\\download11.jpg\",target_size=(90,90))\n",
    "x=image.img_to_array(img)\n",
    "x=np.expand_dims(x,axis=0)\n",
    "pred=model.predict_classes(x)\n",
    "pred"
   ]
  },
  {
   "cell_type": "code",
   "execution_count": 96,
   "id": "e07d824c",
   "metadata": {},
   "outputs": [
    {
     "name": "stdout",
     "output_type": "stream",
     "text": [
      "KL Rahul\n"
     ]
    }
   ],
   "source": [
    "index=['KL Rahul', 'Rishabh Pant', 'Shreyas Iyer', 'Virat kohli']\n",
    "print(index[pred[0]])"
   ]
  },
  {
   "cell_type": "code",
   "execution_count": 97,
   "id": "d8caf329",
   "metadata": {},
   "outputs": [
    {
     "data": {
      "text/plain": [
       "(1, 90, 90, 3)"
      ]
     },
     "execution_count": 97,
     "metadata": {},
     "output_type": "execute_result"
    }
   ],
   "source": [
    "x.shape"
   ]
  }
 ],
 "metadata": {
  "kernelspec": {
   "display_name": "Python 3 (ipykernel)",
   "language": "python",
   "name": "python3"
  },
  "language_info": {
   "codemirror_mode": {
    "name": "ipython",
    "version": 3
   },
   "file_extension": ".py",
   "mimetype": "text/x-python",
   "name": "python",
   "nbconvert_exporter": "python",
   "pygments_lexer": "ipython3",
   "version": "3.9.7"
  }
 },
 "nbformat": 4,
 "nbformat_minor": 5
}
