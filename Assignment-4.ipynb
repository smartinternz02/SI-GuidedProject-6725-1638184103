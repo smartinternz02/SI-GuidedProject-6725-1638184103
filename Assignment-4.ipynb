{
 "cells": [
  {
   "cell_type": "code",
   "execution_count": 18,
   "id": "1c6279f0",
   "metadata": {},
   "outputs": [],
   "source": [
    "import numpy as np"
   ]
  },
  {
   "cell_type": "code",
   "execution_count": 19,
   "id": "ba98198b",
   "metadata": {},
   "outputs": [],
   "source": [
    "from tensorflow.keras.preprocessing.image import ImageDataGenerator"
   ]
  },
  {
   "cell_type": "code",
   "execution_count": 20,
   "id": "8ff477bc",
   "metadata": {},
   "outputs": [],
   "source": [
    "train_datagen=ImageDataGenerator(rescale=1./255,zoom_range=0.2,horizontal_flip=True,vertical_flip=False)"
   ]
  },
  {
   "cell_type": "code",
   "execution_count": 21,
   "id": "b41d5b49",
   "metadata": {},
   "outputs": [],
   "source": [
    "test_datagen=ImageDataGenerator(rescale=1/255)"
   ]
  },
  {
   "cell_type": "code",
   "execution_count": 52,
   "id": "16507c23",
   "metadata": {},
   "outputs": [
    {
     "name": "stdout",
     "output_type": "stream",
     "text": [
      "Found 46 images belonging to 4 classes.\n"
     ]
    }
   ],
   "source": [
    "x_train=train_datagen.flow_from_directory(r\"F:\\ML&DL-Inter\\New folder\\Training\",target_size=(70,70),\n",
    "                                          class_mode='categorical',batch_size=200)"
   ]
  },
  {
   "cell_type": "code",
   "execution_count": 53,
   "id": "8a950f01",
   "metadata": {},
   "outputs": [
    {
     "name": "stdout",
     "output_type": "stream",
     "text": [
      "Found 31 images belonging to 4 classes.\n"
     ]
    }
   ],
   "source": [
    "x_test=test_datagen.flow_from_directory(r\"F:\\ML&DL-Inter\\New folder\\Testing\",target_size=(70,70),\n",
    "                                       class_mode='categorical',batch_size=200)"
   ]
  },
  {
   "cell_type": "code",
   "execution_count": 54,
   "id": "f36e052a",
   "metadata": {},
   "outputs": [
    {
     "data": {
      "text/plain": [
       "{'Dhoni': 0, 'Jadeja': 1, 'Rohit Sharama': 2, 'Virat kohli': 3}"
      ]
     },
     "execution_count": 54,
     "metadata": {},
     "output_type": "execute_result"
    }
   ],
   "source": [
    "x_train.class_indices"
   ]
  },
  {
   "cell_type": "markdown",
   "id": "17aa4d9b",
   "metadata": {},
   "source": [
    "# Importing "
   ]
  },
  {
   "cell_type": "code",
   "execution_count": 55,
   "id": "754350f9",
   "metadata": {},
   "outputs": [],
   "source": [
    "from tensorflow.keras.models import Sequential\n",
    "from tensorflow.keras.layers import Dense,Convolution2D,MaxPooling2D,Flatten\n"
   ]
  },
  {
   "cell_type": "markdown",
   "id": "9063a5a6",
   "metadata": {},
   "source": [
    "# Sequential,Convolution and Maxpooling"
   ]
  },
  {
   "cell_type": "code",
   "execution_count": 56,
   "id": "3e66dd72",
   "metadata": {},
   "outputs": [],
   "source": [
    "model=Sequential()"
   ]
  },
  {
   "cell_type": "code",
   "execution_count": 57,
   "id": "b1302a87",
   "metadata": {},
   "outputs": [],
   "source": [
    "model.add(Convolution2D(32,(3,3),activation='relu',input_shape=(70,70,3)))"
   ]
  },
  {
   "cell_type": "code",
   "execution_count": 58,
   "id": "355feacf",
   "metadata": {},
   "outputs": [],
   "source": [
    "model.add(MaxPooling2D(pool_size=(2,2)))"
   ]
  },
  {
   "cell_type": "code",
   "execution_count": 59,
   "id": "5df6ec95",
   "metadata": {},
   "outputs": [],
   "source": [
    "model.add(Flatten())"
   ]
  },
  {
   "cell_type": "markdown",
   "id": "aa88b87f",
   "metadata": {},
   "source": [
    "# Model Summary"
   ]
  },
  {
   "cell_type": "code",
   "execution_count": 61,
   "id": "bc8196f8",
   "metadata": {},
   "outputs": [
    {
     "name": "stdout",
     "output_type": "stream",
     "text": [
      "Model: \"sequential_1\"\n",
      "_________________________________________________________________\n",
      "Layer (type)                 Output Shape              Param #   \n",
      "=================================================================\n",
      "conv2d_1 (Conv2D)            (None, 68, 68, 32)        896       \n",
      "_________________________________________________________________\n",
      "max_pooling2d_1 (MaxPooling2 (None, 34, 34, 32)        0         \n",
      "_________________________________________________________________\n",
      "flatten_2 (Flatten)          (None, 36992)             0         \n",
      "=================================================================\n",
      "Total params: 896\n",
      "Trainable params: 896\n",
      "Non-trainable params: 0\n",
      "_________________________________________________________________\n"
     ]
    }
   ],
   "source": [
    "model.summary()"
   ]
  },
  {
   "cell_type": "markdown",
   "id": "b1f0f546",
   "metadata": {},
   "source": [
    "Hidden Layer"
   ]
  },
  {
   "cell_type": "code",
   "execution_count": 62,
   "id": "167ed0f3",
   "metadata": {},
   "outputs": [],
   "source": [
    "model.add(Dense(300,activation='relu'))\n",
    "model.add(Dense(150,activation='relu'))"
   ]
  },
  {
   "cell_type": "markdown",
   "id": "5037d35c",
   "metadata": {},
   "source": [
    "Output Layer"
   ]
  },
  {
   "cell_type": "code",
   "execution_count": 63,
   "id": "84a6c206",
   "metadata": {},
   "outputs": [],
   "source": [
    "model.add(Dense(4,activation='softmax'))"
   ]
  },
  {
   "cell_type": "code",
   "execution_count": 64,
   "id": "e5fa3798",
   "metadata": {},
   "outputs": [],
   "source": [
    "model.compile(loss='categorical_crossentropy',optimizer='adam',metrics=['accuracy'])"
   ]
  },
  {
   "cell_type": "code",
   "execution_count": 65,
   "id": "ff7ff742",
   "metadata": {},
   "outputs": [
    {
     "name": "stdout",
     "output_type": "stream",
     "text": [
      "Epoch 1/10\n",
      "1/1 [==============================] - 1s 750ms/step - loss: 1.4154 - accuracy: 0.1957 - val_loss: 5.0378 - val_accuracy: 0.1935\n",
      "Epoch 2/10\n",
      "1/1 [==============================] - 0s 306ms/step - loss: 3.7812 - accuracy: 0.3261 - val_loss: 2.0529 - val_accuracy: 0.3226\n",
      "Epoch 3/10\n",
      "1/1 [==============================] - 0s 298ms/step - loss: 2.0831 - accuracy: 0.2391 - val_loss: 3.6412 - val_accuracy: 0.2581\n",
      "Epoch 4/10\n",
      "1/1 [==============================] - 0s 300ms/step - loss: 3.2749 - accuracy: 0.2174 - val_loss: 3.1635 - val_accuracy: 0.2258\n",
      "Epoch 5/10\n",
      "1/1 [==============================] - 0s 298ms/step - loss: 2.5290 - accuracy: 0.2391 - val_loss: 2.2758 - val_accuracy: 0.1935\n",
      "Epoch 6/10\n",
      "1/1 [==============================] - 0s 314ms/step - loss: 1.8047 - accuracy: 0.3261 - val_loss: 1.7862 - val_accuracy: 0.2903\n",
      "Epoch 7/10\n",
      "1/1 [==============================] - 0s 305ms/step - loss: 1.5337 - accuracy: 0.3913 - val_loss: 2.1521 - val_accuracy: 0.3226\n",
      "Epoch 8/10\n",
      "1/1 [==============================] - 0s 315ms/step - loss: 1.8950 - accuracy: 0.2391 - val_loss: 1.6250 - val_accuracy: 0.3226\n",
      "Epoch 9/10\n",
      "1/1 [==============================] - 0s 319ms/step - loss: 1.4613 - accuracy: 0.3043 - val_loss: 1.5434 - val_accuracy: 0.2903\n",
      "Epoch 10/10\n",
      "1/1 [==============================] - 0s 299ms/step - loss: 1.3754 - accuracy: 0.3478 - val_loss: 1.5412 - val_accuracy: 0.3226\n"
     ]
    },
    {
     "data": {
      "text/plain": [
       "<tensorflow.python.keras.callbacks.History at 0x1baa0205ca0>"
      ]
     },
     "execution_count": 65,
     "metadata": {},
     "output_type": "execute_result"
    }
   ],
   "source": [
    "model.fit_generator(x_train,steps_per_epoch=len(x_train),epochs=10,validation_data=x_test,validation_steps=len(x_test))"
   ]
  },
  {
   "cell_type": "markdown",
   "id": "664acce0",
   "metadata": {},
   "source": [
    "# Save the Model"
   ]
  },
  {
   "cell_type": "code",
   "execution_count": 66,
   "id": "cd66b24f",
   "metadata": {},
   "outputs": [],
   "source": [
    "model.save('celebrities.h5')"
   ]
  },
  {
   "cell_type": "markdown",
   "id": "fb276241",
   "metadata": {},
   "source": [
    "# Testing the Model"
   ]
  },
  {
   "cell_type": "code",
   "execution_count": 67,
   "id": "ccb02803",
   "metadata": {},
   "outputs": [],
   "source": [
    "from tensorflow.keras.models import load_model\n",
    "from tensorflow.keras.preprocessing import image"
   ]
  },
  {
   "cell_type": "code",
   "execution_count": 68,
   "id": "d352c0e9",
   "metadata": {},
   "outputs": [
    {
     "data": {
      "text/plain": [
       "array([0], dtype=int64)"
      ]
     },
     "execution_count": 68,
     "metadata": {},
     "output_type": "execute_result"
    }
   ],
   "source": [
    "model=load_model('celebrities.h5')\n",
    "img=image.load_img(r\"F:\\ML&DL-Inter\\New folder\\Testing\\Mahesh Babu\\download22.jpg\",target_size=(70,70))\n",
    "x=image.img_to_array(img)\n",
    "x=np.expand_dims(x,axis=0)\n",
    "pred=model.predict_classes(x)\n",
    "pred"
   ]
  },
  {
   "cell_type": "code",
   "execution_count": 69,
   "id": "0fcdfe34",
   "metadata": {},
   "outputs": [
    {
     "name": "stdout",
     "output_type": "stream",
     "text": [
      "Dhoni\n"
     ]
    }
   ],
   "source": [
    "index=['Dhoni', 'Jadeja', 'Rohit Sharama', 'Virat kohli']\n",
    "print(index[pred[0]])"
   ]
  },
  {
   "cell_type": "code",
   "execution_count": 70,
   "id": "6efb228c",
   "metadata": {},
   "outputs": [
    {
     "data": {
      "text/plain": [
       "(1, 70, 70, 3)"
      ]
     },
     "execution_count": 70,
     "metadata": {},
     "output_type": "execute_result"
    }
   ],
   "source": [
    "x.shape"
   ]
  },
  {
   "cell_type": "code",
   "execution_count": 71,
   "id": "441e7e74",
   "metadata": {},
   "outputs": [
    {
     "data": {
      "text/plain": [
       "numpy.ndarray"
      ]
     },
     "execution_count": 71,
     "metadata": {},
     "output_type": "execute_result"
    }
   ],
   "source": [
    "type(x)"
   ]
  }
 ],
 "metadata": {
  "kernelspec": {
   "display_name": "Python 3 (ipykernel)",
   "language": "python",
   "name": "python3"
  },
  "language_info": {
   "codemirror_mode": {
    "name": "ipython",
    "version": 3
   },
   "file_extension": ".py",
   "mimetype": "text/x-python",
   "name": "python",
   "nbconvert_exporter": "python",
   "pygments_lexer": "ipython3",
   "version": "3.9.7"
  }
 },
 "nbformat": 4,
 "nbformat_minor": 5
}
